{
 "metadata": {
  "name": "",
  "signature": "sha256:05c61487582f852209193fd2da810dd85c0c6e5e0ae872ffe8e7ac05705fae3b"
 },
 "nbformat": 3,
 "nbformat_minor": 0,
 "worksheets": []
}