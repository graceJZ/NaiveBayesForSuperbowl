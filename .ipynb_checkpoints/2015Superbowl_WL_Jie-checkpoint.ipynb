{
 "metadata": {
  "name": "",
  "signature": "sha256:f14aa07a23c623289f70b8ed07d8c13e56716d0ae983afd5d42b06e546a7624d"
 },
 "nbformat": 3,
 "nbformat_minor": 0,
 "worksheets": [
  {
   "cells": [
    {
     "cell_type": "markdown",
     "metadata": {},
     "source": [
      "# Naive Bayes for the Superbowl\n",
      "\n",
      "This IPython notebook is starter code for the first collaborative project for the Meetup."
     ]
    },
    {
     "cell_type": "markdown",
     "metadata": {},
     "source": [
      "# Load Data"
     ]
    },
    {
     "cell_type": "code",
     "collapsed": false,
     "input": [
      "###########################################################################################\n",
      "# Load csv files into Pandas data frames\n",
      "###########################################################################################\n",
      "\n",
      "import pandas\n",
      "\n",
      "sea_data = pandas.read_csv(\"SeattleStats.csv\").fillna(0)\n",
      "ne_data = pandas.read_csv(\"NewEnglandStats.csv\").fillna(0)\n",
      "\n",
      "#print sea_data.columns\n",
      "#sea_data.dtypes\n",
      "#print sea_data"
     ],
     "language": "python",
     "metadata": {},
     "outputs": [],
     "prompt_number": 44
    },
    {
     "cell_type": "markdown",
     "metadata": {},
     "source": [
      "#Transform Data"
     ]
    },
    {
     "cell_type": "code",
     "collapsed": false,
     "input": [
      "###########################################################################################\n",
      "# We first transform the Seattle Stat data by partitioning it into features and output\n",
      "#\n",
      "# How do we use the features to predict the output of the next game?\n",
      "###########################################################################################\n",
      "\n",
      "features = sea_data.ix[:,\"ScoreTm\":]          # change this line\n",
      "output = sea_data.ix[:,\"WL\"]                  # change this line\n",
      "target = sea_data.tail(1).ix[:,\"ScoreTm\":]    # most recent game (last line)"
     ],
     "language": "python",
     "metadata": {},
     "outputs": [],
     "prompt_number": 86
    },
    {
     "cell_type": "markdown",
     "metadata": {},
     "source": [
      "#Create Classifier"
     ]
    },
    {
     "cell_type": "code",
     "collapsed": false,
     "input": [
      "###########################################################################################\n",
      "# Use the Gaussian Naive Bayes Classfier from Sklearn\n",
      "###########################################################################################\n",
      "\n",
      "from sklearn.naive_bayes import GaussianNB\n",
      "\n",
      "nbc = GaussianNB()"
     ],
     "language": "python",
     "metadata": {},
     "outputs": [],
     "prompt_number": 46
    },
    {
     "cell_type": "markdown",
     "metadata": {},
     "source": [
      "#Train Classifier"
     ]
    },
    {
     "cell_type": "code",
     "collapsed": false,
     "input": [
      "###########################################################################################\n",
      "# use the fit method for nbc\n",
      "###########################################################################################\n",
      "\n",
      "model = nbc.fit(features,output)"
     ],
     "language": "python",
     "metadata": {},
     "outputs": [],
     "prompt_number": 47
    },
    {
     "cell_type": "markdown",
     "metadata": {},
     "source": [
      "#Make Prediction"
     ]
    },
    {
     "cell_type": "code",
     "collapsed": false,
     "input": [
      "###########################################################################################\n",
      "# use the predict method for nbc\n",
      "###########################################################################################\n",
      "\n",
      "answer = nbc.predict(target)\n",
      "print answer"
     ],
     "language": "python",
     "metadata": {},
     "outputs": [],
     "prompt_number": 87
    }
   ],
   "metadata": {}
  }
 ]
}