{
 "metadata": {
  "name": "",
  "signature": "sha256:36e7c1d74f22ea3e8ceb60201e99877b1dc8eec71bfab7d3ea0f8c29109bf3e9"
 },
 "nbformat": 3,
 "nbformat_minor": 0,
 "worksheets": [
  {
   "cells": [
    {
     "cell_type": "code",
     "collapsed": false,
     "input": [
      "###########################################################################################\n",
      "# Load csv files into Pandas data frames\n",
      "###########################################################################################\n",
      "import pandas\n",
      "import numpy as np\n",
      "from sklearn.cross_validation import train_test_split\n",
      "from sklearn.naive_bayes import GaussianNB\n",
      "import matplotlib.pyplot as plt\n",
      "nbc = GaussianNB()\n",
      "sea_data = pandas.read_csv(\"SeattleStats.csv\").fillna(0)\n",
      "ne_data = pandas.read_csv(\"NewEnglandStats.csv\").fillna(0)\n",
      "print sea_data.columns"
     ],
     "language": "python",
     "metadata": {},
     "outputs": [
      {
       "output_type": "stream",
       "stream": "stdout",
       "text": [
        "Index([u'Season', u'Date', u'WL', u'Opp', u'ScoreTm', u'ScoreOpp', u'Offense1stD', u'OffenseTotYd', u'OffensePassY', u'OffenseRushY', u'OffenseTO', u'Defense1stD', u'DefenseTotYd', u'DefensePassY', u'DefenseRushY', u'DefenseTO', u'Expected PointsOffense', u'Expected PointsDefense', u'Expected PointsSp. Tms'], dtype='object')\n"
       ]
      }
     ],
     "prompt_number": 2
    },
    {
     "cell_type": "code",
     "collapsed": false,
     "input": [
      "Score=ne_data.loc[:,\"ScoreTm\"]-ne_data.loc[:,\"ScoreOpp\"]\n",
      "WLtemp = ne_data.loc[:,\"WL\"] # Transfor WL vector into numerical vector \n",
      "numWL = {\"W\":1 ,\"L\" :0} \n",
      "WLtemp=WLtemp.replace(numWL) \n",
      "WLnumeric=WLtemp.convert_objects(convert_numeric=True)[0:55] \n",
      "Loop=100\n",
      "nFeatureLength=5\n",
      "accuracy=np.zeros((nFeatureLength,Loop))\n",
      "answer=np.zeros((nFeatureLength,Loop))\n",
      "for mm in xrange(0,Loop):  \n",
      "    for jj in xrange(1,nFeatureLength+1,1): # Varying the length of feature vector from 1 to 5: number of past games count for prediction\n",
      "        kk=WLnumeric.shape[0]\n",
      "        Xinput=np.zeros((kk-jj+1,jj)) \n",
      "        for ii in xrange(0,kk-jj+1,1):\n",
      "            Xinput[ii,0:jj]=Score[ii:ii+jj] # or one could use Score as feature vector\n",
      "        Youtput=WLnumeric[jj:kk]\n",
      "        Xtrain, Xtest, Ytrain, Ytest = train_test_split(Xinput[0:kk-jj,:],Youtput, test_size=0.33) # Divide feature into train and test\n",
      "        Xtarget=Xinput[-1,:]\n",
      "        model = nbc.fit(Xtrain,Ytrain)\n",
      "        accuracy[jj-1,mm]=nbc.score(Xtest,Ytest)\n",
      "        answer[jj-1,mm] = nbc.predict(Xtarget)"
     ],
     "language": "python",
     "metadata": {},
     "outputs": [],
     "prompt_number": 7
    },
    {
     "cell_type": "code",
     "collapsed": false,
     "input": [
      "featureLength = np.arange(1,nFeatureLength+1,1)\n",
      "answerSum=np.sum(answer,axis=1)\n",
      "accuracyMean = np.mean(accuracy,axis=1)\n",
      "accuracyStd=np.std(accuracy,axis=1)\n",
      "\n",
      "print featureLength\n",
      "print answerSum/Loop\n",
      "print accuracyMean\n",
      "print accuracyStd"
     ],
     "language": "python",
     "metadata": {},
     "outputs": [
      {
       "output_type": "stream",
       "stream": "stdout",
       "text": [
        "[1 2 3 4 5]\n",
        "[ 1.  1.  1.  1.  1.]\n",
        "[ 0.73222222  0.705       0.73529412  0.69058824  0.67529412]\n",
        "[ 0.09005485  0.09185839  0.09790186  0.09687862  0.08783438]\n"
       ]
      }
     ],
     "prompt_number": 8
    }
   ],
   "metadata": {}
  }
 ]
}