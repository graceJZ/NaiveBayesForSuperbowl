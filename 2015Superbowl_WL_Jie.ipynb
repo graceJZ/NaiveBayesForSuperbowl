{
 "metadata": {
  "name": "",
  "signature": "sha256:2e093a46f74e7fe2ec60da46e122859effdf628a8e81f343d763d20c16c12d35"
 },
 "nbformat": 3,
 "nbformat_minor": 0,
 "worksheets": [
  {
   "cells": [
    {
     "cell_type": "markdown",
     "metadata": {},
     "source": [
      "# Naive Bayes for the Superbowl\n",
      "\n",
      "This IPython notebook is starter code for the first collaborative project for the Meetup."
     ]
    },
    {
     "cell_type": "markdown",
     "metadata": {},
     "source": [
      "# Load Data & Set Up"
     ]
    },
    {
     "cell_type": "code",
     "collapsed": false,
     "input": [
      "###########################################################################################\n",
      "# Load csv files into Pandas data frames\n",
      "###########################################################################################\n",
      "import pandas\n",
      "import numpy as np\n",
      "from sklearn.cross_validation import train_test_split\n",
      "from sklearn.naive_bayes import GaussianNB\n",
      "import matplotlib.pyplot as plt\n",
      "nbc = GaussianNB()\n",
      "sea_data = pandas.read_csv(\"SeattleStats.csv\").fillna(0)\n",
      "ne_data = pandas.read_csv(\"NewEnglandStats.csv\").fillna(0)\n",
      "print sea_data.columns"
     ],
     "language": "python",
     "metadata": {},
     "outputs": [
      {
       "output_type": "stream",
       "stream": "stdout",
       "text": [
        "Index([u'Season', u'Date', u'WL', u'Opp', u'ScoreTm', u'ScoreOpp', u'Offense1stD', u'OffenseTotYd', u'OffensePassY', u'OffenseRushY', u'OffenseTO', u'Defense1stD', u'DefenseTotYd', u'DefensePassY', u'DefenseRushY', u'DefenseTO', u'Expected PointsOffense', u'Expected PointsDefense', u'Expected PointsSp. Tms'], dtype='object')\n"
       ]
      }
     ],
     "prompt_number": 436
    },
    {
     "cell_type": "markdown",
     "metadata": {},
     "source": [
      "#Transform Data; Create Feature; Vary Feature Length; Divide Train and Test; Obtain Accuracy"
     ]
    },
    {
     "cell_type": "code",
     "collapsed": false,
     "input": [
      "Score=ne_data.loc[:,\"ScoreTm\"]-ne_data.loc[:,\"ScoreOpp\"]\n",
      "WLtemp = ne_data.loc[:,\"WL\"] # Transfor WL vector into numerical vector \n",
      "numWL = {\"W\":1 ,\"L\" :0} \n",
      "WLtemp=WLtemp.replace(numWL) \n",
      "WLnumeric=WLtemp.convert_objects(convert_numeric=True)[0:55] \n",
      "Loop=100\n",
      "nFeatureLength=5\n",
      "accuracy=np.zeros((nFeatureLength,Loop))\n",
      "answer=np.zeros((nFeatureLength,Loop))\n",
      "for mm in xrange(0,Loop):  \n",
      "    for jj in xrange(1,nFeatureLength+1,1): # Varying the length of feature vector from 1 to 5: number of past games count for prediction\n",
      "        kk=WLnumeric.shape[0]\n",
      "        Xinput=np.zeros((kk-jj+1,jj)) \n",
      "        for ii in xrange(0,kk-jj+1,1):\n",
      "            Xinput[ii,0:jj]=WLnumeric[ii:ii+jj] # or one could use Score as feature vector\n",
      "        Youtput=WLnumeric[jj:kk]\n",
      "        Xtrain, Xtest, Ytrain, Ytest = train_test_split(Xinput[0:kk-jj,:],Youtput, test_size=0.33) # Divide feature into train and test\n",
      "        Xtarget=Xinput[-1,:]\n",
      "        model = nbc.fit(Xtrain,Ytrain)\n",
      "        accuracy[jj-1,mm]=nbc.score(Xtest,Ytest)\n",
      "        answer[jj-1,mm] = nbc.predict(Xtarget)"
     ],
     "language": "python",
     "metadata": {},
     "outputs": [],
     "prompt_number": 434
    },
    {
     "cell_type": "code",
     "collapsed": false,
     "input": [
      "featureLength = np.arange(1,nFeatureLength+1,1)\n",
      "answerSum=np.sum(answer,axis=1)\n",
      "accuracyMean = np.mean(accuracy,axis=1)\n",
      "accuracyStd=np.std(accuracy,axis=1)\n",
      "\n",
      "print featureLength\n",
      "print answerSum/Loop\n",
      "print accuracyMean\n",
      "print accuracyStd"
     ],
     "language": "python",
     "metadata": {},
     "outputs": [
      {
       "output_type": "stream",
       "stream": "stdout",
       "text": [
        "[1 2 3 4 5]\n",
        "[ 0.88  0.35  0.38  0.48  0.35]\n",
        "[ 0.70333333  0.57055556  0.57411765  0.60176471  0.56411765]\n",
        "[ 0.12939079  0.16308276  0.15206081  0.22070272  0.18733147]\n"
       ]
      }
     ],
     "prompt_number": 435
    }
   ],
   "metadata": {}
  }
 ]
}